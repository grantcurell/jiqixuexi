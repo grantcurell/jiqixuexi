{
 "cells": [
  {
   "cell_type": "code",
   "execution_count": 47,
   "metadata": {
    "collapsed": true
   },
   "outputs": [
    {
     "data": {
      "text/plain": "[<matplotlib.lines.Line2D at 0x2c602051640>]"
     },
     "execution_count": 47,
     "metadata": {},
     "output_type": "execute_result"
    },
    {
     "data": {
      "text/plain": "<Figure size 432x288 with 1 Axes>",
      "image/png": "[encoded data removed]"
     },
     "metadata": {
      "needs_background": "light"
     },
     "output_type": "display_data"
    }
   ],
   "source": [
    "import random\n",
    "import numpy as np\n",
    "import matplotlib.pyplot as plt\n",
    "\n",
    "# function to convert to subscript\n",
    "def get_sub(x):\n",
    "    normal = \"ABCDEFGHIJKLMNOPQRSTUVWXYZabcdefghijklmnopqrstuvwxyz0123456789+-=()\"\n",
    "    sub_s = \"ₐ₈CDₑբGₕᵢⱼₖₗₘₙₒₚQᵣₛₜᵤᵥwₓᵧZₐ♭꜀ᑯₑբ₉ₕᵢⱼₖₗₘₙₒₚ૧ᵣₛₜᵤᵥwₓᵧ₂₀₁₂₃₄₅₆₇₈₉₊₋₌₍₎\"\n",
    "    res = x.maketrans(''.join(normal), ''.join(sub_s))\n",
    "    return x.translate(res)\n",
    "\n",
    "# This method borrowed from: https://github.com/niuers/Learning-From-Data-A-Short-Course/blob/master/Solutions%20to%20Chapter%201%20The%20Learning%20Problem.ipynb\n",
    "# Props to him for figuring this out because my original method for doing this was much slower\n",
    "def flip_coins(total_coins):\n",
    "    \"\"\"Flip all coins once, return their head/tail status\"\"\"\n",
    "\n",
    "    hts = np.zeros(total_coins) #head: 1, tail: 0\n",
    "    probs = np.random.uniform(size=total_coins)\n",
    "    hts[probs > 0.5] = 1\n",
    "    return hts\n",
    "\n",
    "epsilons = np.arange(0, 1, .05)\n",
    "NUM_RUNS = 6\n",
    "NUM_EXPERIMENTS = 10000\n",
    "plot = []\n",
    "\n",
    "# My one line monstrosity.\n",
    "# flip_coins(NUM_RUNS) = flip the coin NUM_RUNS times (6) per the question. This is just one of the coins\n",
    "# np.average(flip_coins(NUM_RUNS)) = get the average result over the 6 coins\n",
    "# np.abs(np.average(flip_coins(NUM_RUNS)) - .5) = Get the absolute value of v-u\n",
    "# np.maximum(np.abs(np.average(flip_coins(NUM_RUNS)) - .5), np.abs(np.average(flip_coins(NUM_RUNS)) - .5)) = Find the\n",
    "# maximum between the two coins\n",
    "# sum(1 for i in range(0, NUM_EXPERIMENTS) if do all the stuff in the above NUM_EXPERIMENTS number of times. If the\n",
    "# result is greater than epsilon then 1 otherwise 0. Add all those 0s and 1s up and then divide by NUM_EXPERIMENTS\n",
    "# to get the average.\n",
    "for epsilon in epsilons:\n",
    "    plot.append(sum(1 for i in range(0, NUM_EXPERIMENTS) if np.maximum(np.abs(np.average(flip_coins(NUM_RUNS)) - .5), np.abs(np.average(flip_coins(NUM_RUNS)) - .5)) > epsilon) / NUM_EXPERIMENTS)\n",
    "\n",
    "ax = plt.subplot()\n",
    "ax.plot(epsilons, plot, color='blue', markersize=8, label='Hoeffding Bound')"
   ]
  },
  {
   "cell_type": "code",
   "execution_count": null,
   "outputs": [],
   "source": [],
   "metadata": {
    "collapsed": false,
    "pycharm": {
     "name": "#%%\n"
    }
   }
  }
 ],
 "metadata": {
  "kernelspec": {
   "display_name": "Python 3",
   "language": "python",
   "name": "python3"
  },
  "language_info": {
   "codemirror_mode": {
    "name": "ipython",
    "version": 2
   },
   "file_extension": ".py",
   "mimetype": "text/x-python",
   "name": "python",
   "nbconvert_exporter": "python",
   "pygments_lexer": "ipython2",
   "version": "2.7.6"
  }
 },
 "nbformat": 4,
 "nbformat_minor": 0
}