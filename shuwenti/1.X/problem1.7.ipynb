{
 "cells": [
  {
   "cell_type": "code",
   "execution_count": 6,
   "metadata": {
    "collapsed": true
   },
   "outputs": [
    {
     "name": "stdout",
     "output_type": "stream",
     "text": [
      "Probability of heads set to  0.5\n",
      "Tails = 0, Heads = 1:  [0 1 0 1 0 1]\n",
      "Head Count:  3\n",
      "Tail Count:  3\n"
     ]
    }
   ],
   "source": [
    "import random\n",
    "import numpy as np\n",
    "import matplotlib.pyplot as plt\n",
    "\n",
    "# function to convert to subscript\n",
    "def get_sub(x):\n",
    "    normal = \"ABCDEFGHIJKLMNOPQRSTUVWXYZabcdefghijklmnopqrstuvwxyz0123456789+-=()\"\n",
    "    sub_s = \"ₐ₈CDₑբGₕᵢⱼₖₗₘₙₒₚQᵣₛₜᵤᵥwₓᵧZₐ♭꜀ᑯₑբ₉ₕᵢⱼₖₗₘₙₒₚ૧ᵣₛₜᵤᵥwₓᵧ₂₀₁₂₃₄₅₆₇₈₉₊₋₌₍₎\"\n",
    "    res = x.maketrans(''.join(normal), ''.join(sub_s))\n",
    "    return x.translate(res)\n",
    "\n",
    "\n",
    "def coinFlip(probability: float=.5):\n",
    "    \"\"\"\n",
    "    Flips a coin with a given probability of being heads\n",
    "\n",
    "    :param probability: The probability of the result being heads\n",
    "    :return:\n",
    "    \"\"\"\n",
    "\n",
    "    #perform the binomial distribution (returns 0 or 1)\n",
    "    result = np.random.binomial(1,probability)\n",
    "\n",
    "    #return flip to be added to numpy array\n",
    "    return result\n",
    "\n",
    "'''Main Area'''\n",
    "\n",
    "u = .5\n",
    "\n",
    "#num of flips required. This can be changed.\n",
    "n = 6\n",
    "\n",
    "#initiate array\n",
    "results_1 = np.arange(n)\n",
    "results_2 = np.arange(n)\n",
    "\n",
    "#perform desired numbered of flips at required probability set above\n",
    "for i in range(0, n):\n",
    "    results_1[i] = coinFlip(u)\n",
    "    results_2[i] = coinFlip(u)\n",
    "    i+=1\n",
    "\n",
    "#print results\n",
    "print(\"Probability of heads set to \", u)\n",
    "print(\"Results of coin 1 \", results_1)\n",
    "print(\"Results of coin 2 \", results_2)\n",
    "\n",
    "#Total up heads and tails for easy user experience\n",
    "print(\"Head Count: \", np.count_nonzero(results_1 == 1))\n",
    "print(\"Tail Count: \", np.count_nonzero(results_1 == 0))"
   ]
  }
 ],
 "metadata": {
  "kernelspec": {
   "display_name": "Python 3",
   "language": "python",
   "name": "python3"
  },
  "language_info": {
   "codemirror_mode": {
    "name": "ipython",
    "version": 2
   },
   "file_extension": ".py",
   "mimetype": "text/x-python",
   "name": "python",
   "nbconvert_exporter": "python",
   "pygments_lexer": "ipython2",
   "version": "2.7.6"
  }
 },
 "nbformat": 4,
 "nbformat_minor": 0
}