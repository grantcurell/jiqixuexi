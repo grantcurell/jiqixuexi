{
 "cells": [
  {
   "cell_type": "markdown",
   "id": "e9b50a02-36b6-4b46-9ba8-e4b9d3872c78",
   "metadata": {},
   "source": [
    "# Exercise 1.10"
   ]
  },
  {
   "cell_type": "markdown",
   "id": "b15139ff-ac2d-44bb-89bc-45bed0bf1012",
   "metadata": {},
   "source": [
    "Here  is an experiment that illustrates the difference  between  a single bin and multiple bins. Run a  computer simulation for flipping 1, 000 fair coins. Flip each coin independently times. Let's focus on 3 coins as follows: c1 is the first coin flipped; Crand is a  coin you choose at random; Cmin is the coin that had the minimum frequency of heads (pick the earlier one in case of a tie).  Let v1 ,  Vrand and Vmin be the fraction of heads you obtain for the respective three coins.\n",
    "\n",
    "1. What is μ for the three coins selected? \n",
    "2. Repeat this entire experiment a  large number of times (e.g.,  100, 000 runs of the entire  experiment) to get several  instances of v1 ,  Vrand and Vmin and  plot the histograms of the distributions of v1,  Vrand and Vmin· Notice that which coins end up being Crand and Cmin may differ from one run to another. \n",
    "3. Using (b), plot estimates for JP[jv-μj >  E] as a function of E, together with the Hoeffding  bound 2e-2c:2N (on the same graph). \n",
    "4. Which coins obey the Hoeffding  bound, and which ones do not?  Ex­plain why.\n",
    "5. Relate part (d) to the  multiple bins  in  Figure 1.10."
   ]
  },
  {
   "cell_type": "code",
   "execution_count": 2,
   "id": "a0f83161-254e-4799-8a22-86dc5318e294",
   "metadata": {},
   "outputs": [],
   "source": [
    "import random\n",
    "import numpy as np\n",
    "\n",
    "# function to convert to subscript\n",
    "def get_sub(x):\n",
    "    normal = \"ABCDEFGHIJKLMNOPQRSTUVWXYZabcdefghijklmnopqrstuvwxyz0123456789+-=()\"\n",
    "    sub_s = \"ₐ₈CDₑբGₕᵢⱼₖₗₘₙₒₚQᵣₛₜᵤᵥwₓᵧZₐ♭꜀ᑯₑբ₉ₕᵢⱼₖₗₘₙₒₚ૧ᵣₛₜᵤᵥwₓᵧ₂₀₁₂₃₄₅₆₇₈₉₊₋₌₍₎\"\n",
    "    res = x.maketrans(''.join(normal), ''.join(sub_s))\n",
    "    return x.translate(res)\n",
    "\n",
    "def run_experiment(output:bool = False) -> []:\n",
    "    \"\"\"\n",
    "    Runs an experiment flipping 1000 fair coins\n",
    "\n",
    "    :param output: Whether you want to print the output of the experiment to console or not\n",
    "    :return: Returns an array of [v1, vrand, vmin]\n",
    "    \"\"\"\n",
    "\n",
    "    # Results is an array of tuples each one including an array of length 10 for each coin being\n",
    "    # flipped 10 times and the some of the true values\n",
    "    results = []\n",
    "    for i in range(0,1000):\n",
    "\n",
    "        # Flip a single coin 10 times and store the results\n",
    "        coin_results = []\n",
    "        for j in range(0, 10):\n",
    "            coin_results.append(random.choice([True,False]))\n",
    "\n",
    "        results.append((coin_results, np.sum(coin_results)))\n",
    "\n",
    "    v1 = results[0][1]/10\n",
    "    if output:\n",
    "        print(\"C%s: %s \\u03BD%s: %s\" % (get_sub(\"1\"), results[0][1], get_sub(\"1\"), str(v1)))\n",
    "\n",
    "    random_result = results[random.randint(0, 999)][1]\n",
    "    vrand = random_result/10\n",
    "    if output:\n",
    "        print(\"C%s: %s \\u03BD%s: %s\" % (get_sub(\"rand\"), random_result, get_sub(\"rand\"), str(vrand)))\n",
    "\n",
    "    current_lowest = 0\n",
    "    for index, coin in enumerate(results):\n",
    "        if coin[1] < results[current_lowest][1]:\n",
    "            current_lowest = index\n",
    "\n",
    "    vmin = results[current_lowest][1]/10\n",
    "    if output:\n",
    "        print(\"C%s: %s \\u03BD%s: %s\" % (get_sub(\"min\"), results[current_lowest][1], get_sub(\"min\"), str(vmin)))\n",
    "\n",
    "    return [v1, vrand, vmin]"
   ]
  },
  {
   "cell_type": "markdown",
   "source": [
    "## Part 1 (a)"
   ],
   "metadata": {
    "collapsed": false
   }
  },
  {
   "cell_type": "code",
   "execution_count": null,
   "outputs": [],
   "source": [
    "import matplotlib.pyplot as plt\n",
    "import numpy as np\n",
    "from matplotlib import colors\n",
    "from matplotlib.ticker import PercentFormatter\n",
    "\n",
    "v1s, vrands, vmins = [],[],[]\n",
    "for z in range(0, 100000):\n",
    "    results = run_experiment()\n",
    "    v1s.append(results[0])\n",
    "    vrands.append(results[1])\n",
    "    vmins.append(results[2])\n",
    "\n",
    "# Fixing random state for reproducibility\n",
    "fig, axs = plt.subplots(1,3,sharey=True, tight_layout=True)\n",
    "n_bins = 10\n",
    "axs[0].hist(v1s,bins=n_bins)\n",
    "axs[1].hist(vrands,bins=n_bins)\n",
    "axs[2].hist(vmins,bins=n_bins)"
   ],
   "metadata": {
    "collapsed": false,
    "pycharm": {
     "name": "#%%\n",
     "is_executing": true
    }
   }
  }
 ],
 "metadata": {
  "kernelspec": {
   "display_name": "Python 3",
   "language": "python",
   "name": "python3"
  },
  "language_info": {
   "codemirror_mode": {
    "name": "ipython",
    "version": 3
   },
   "file_extension": ".py",
   "mimetype": "text/x-python",
   "name": "python",
   "nbconvert_exporter": "python",
   "pygments_lexer": "ipython3",
   "version": "3.9.0"
  }
 },
 "nbformat": 4,
 "nbformat_minor": 5
}