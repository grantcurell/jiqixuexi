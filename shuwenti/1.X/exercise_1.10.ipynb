{
 "cells": [
  {
   "cell_type": "markdown",
   "id": "e9b50a02-36b6-4b46-9ba8-e4b9d3872c78",
   "metadata": {},
   "source": [
    "# Exercise 1.10"
   ]
  },
  {
   "cell_type": "markdown",
   "id": "b15139ff-ac2d-44bb-89bc-45bed0bf1012",
   "metadata": {},
   "source": [
    "![Problem](images/2021-05-26-09-47-40.png)"
   ]
  },
  {
   "cell_type": "code",
   "execution_count": 30,
   "id": "a0f83161-254e-4799-8a22-86dc5318e294",
   "metadata": {},
   "outputs": [],
   "source": [
    "import random\n",
    "import numpy as np\n",
    "import matplotlib.pyplot as plt\n",
    "\n",
    "# function to convert to subscript\n",
    "def get_sub(x):\n",
    "    normal = \"ABCDEFGHIJKLMNOPQRSTUVWXYZabcdefghijklmnopqrstuvwxyz0123456789+-=()\"\n",
    "    sub_s = \"ₐ₈CDₑբGₕᵢⱼₖₗₘₙₒₚQᵣₛₜᵤᵥwₓᵧZₐ♭꜀ᑯₑբ₉ₕᵢⱼₖₗₘₙₒₚ૧ᵣₛₜᵤᵥwₓᵧ₂₀₁₂₃₄₅₆₇₈₉₊₋₌₍₎\"\n",
    "    res = x.maketrans(''.join(normal), ''.join(sub_s))\n",
    "    return x.translate(res)\n",
    "\n",
    "def run_experiment(output:bool = False) -> []:\n",
    "    \"\"\"\n",
    "    Runs an experiment flipping 1000 fair coins\n",
    "\n",
    "    :param output: Whether you want to print the output of the experiment to console or not\n",
    "    :return: Returns an array of [v1, vrand, vmin]\n",
    "    \"\"\"\n",
    "\n",
    "    # Results is an array of tuples each one including an array of length 10 for each coin being\n",
    "    # flipped 10 times and the some of the true values\n",
    "    results = []\n",
    "    for i in range(0,1000):\n",
    "\n",
    "        # Flip a single coin 10 times and store the results\n",
    "        coin_results = []\n",
    "        for j in range(0, 10):\n",
    "            coin_results.append(random.choice([True,False]))\n",
    "\n",
    "        results.append((coin_results, np.sum(coin_results)))\n",
    "\n",
    "    v1 = results[0][1]/10\n",
    "    if output:\n",
    "        print(\"C%s: %s \\u03BD%s: %s\" % (get_sub(\"1\"), results[0][1], get_sub(\"1\"), str(v1)))\n",
    "\n",
    "    random_result = results[random.randint(0, 999)][1]\n",
    "    vrand = random_result/10\n",
    "    if output:\n",
    "        print(\"C%s: %s \\u03BD%s: %s\" % (get_sub(\"rand\"), random_result, get_sub(\"rand\"), str(vrand)))\n",
    "\n",
    "    current_lowest = 0\n",
    "    for index, coin in enumerate(results):\n",
    "        if coin[1] < results[current_lowest][1]:\n",
    "            current_lowest = index\n",
    "\n",
    "    vmin = results[current_lowest][1]/10\n",
    "    if output:\n",
    "        print(\"C%s: %s \\u03BD%s: %s\" % (get_sub(\"min\"), results[current_lowest][1], get_sub(\"min\"), str(vmin)))\n",
    "\n",
    "    return [v1, vrand, vmin]\n",
    "\n",
    "\n",
    "def run_experiment_multiple(num_times: int = 500, draw: bool = True):\n",
    "\n",
    "    v1s, vrands, vmins = [],[],[]\n",
    "    for z in range(0, num_times):\n",
    "        results = run_experiment()\n",
    "        v1s.append(results[0])\n",
    "        vrands.append(results[1])\n",
    "        vmins.append(results[2])\n",
    "\n",
    "    # Fixing random state for reproducibility\n",
    "\n",
    "    if draw:\n",
    "        fig, axs = plt.subplots(1,3,sharey=True, tight_layout=True)\n",
    "        n_bins = 10\n",
    "        axs[0].hist(v1s,bins=n_bins)\n",
    "        axs[1].hist(vrands,bins=n_bins)\n",
    "        axs[2].hist(vmins,bins=n_bins)\n",
    "\n",
    "    return [v1s, vrands, vmins]\n"
   ]
  },
  {
   "cell_type": "markdown",
   "source": [
    "## Part 1 (a)\n",
    "\n",
    "50% because it is 50/50 odds for each coin toss\n",
    "\n",
    "## Part 2 (b)"
   ],
   "metadata": {
    "collapsed": false
   }
  },
  {
   "cell_type": "code",
   "execution_count": 16,
   "outputs": [
    {
     "data": {
      "text/plain": "<Figure size 432x288 with 3 Axes>",
      "image/png": "[encoded data removed]"
     },
     "metadata": {
      "needs_background": "light"
     },
     "output_type": "display_data"
    }
   ],
   "source": [
    "# Assigning it to the variable nothing suppresses Jupyter Notebook from printing the return values\n",
    "nothing = run_experiment_multiple(50)"
   ],
   "metadata": {
    "collapsed": false,
    "pycharm": {
     "name": "#%%\n"
    }
   }
  },
  {
   "cell_type": "markdown",
   "source": [
    "## Part 3 (c)"
   ],
   "metadata": {
    "collapsed": false,
    "pycharm": {
     "name": "#%% md\n"
    }
   }
  },
  {
   "cell_type": "code",
   "execution_count": 33,
   "outputs": [
    {
     "data": {
      "text/plain": "<Figure size 432x288 with 1 Axes>",
      "image/png": "[encoded data removed]"
     },
     "metadata": {
      "needs_background": "light"
     },
     "output_type": "display_data"
    }
   ],
   "source": [
    "def part_c(num_times: int = 50):\n",
    "\n",
    "    interval = np.arange(0, 1, .1)\n",
    "    v1_averages = []\n",
    "    vrand_averages = []\n",
    "    vmin_averages = []\n",
    "\n",
    "    for i in range(0, 10, 1):\n",
    "        vs = run_experiment_multiple(num_times, draw=False)\n",
    "        percentage = float(i)/10\n",
    "\n",
    "        # Get the number of instances in our lists where the probability of the absolute value of v-u is greater than\n",
    "        # our error rate. Remember v here is the fraction of the time that we flipped heads run over some number of\n",
    "        # experiments.\n",
    "        v1_averages.append(sum(1 for j in vs[0] if abs(j-.5) <= percentage)/num_times)\n",
    "        vrand_averages.append(sum(1 for j in vs[1] if abs(j-.5) <= percentage)/num_times)\n",
    "        vmin_averages.append(sum(1 for j in vs[2] if abs(j-.5) <= percentage)/num_times)\n",
    "\n",
    "    #plt.plot(eps, bounds, marker='o', markerfacecolor='blue', markersize=8, color='skyblue', label='Hoeffding Bound')\n",
    "    plt.plot(interval, v1_averages, marker='', color='r', linewidth=1, label='First Coin')\n",
    "    plt.plot(interval, vrand_averages, marker='', color='g', linewidth=1, linestyle='dashed', label='Random Coin')\n",
    "    plt.plot(interval, vmin_averages, marker='', color='y', linewidth=1, linestyle='dashed', label='Coin with Minimum Freq')\n",
    "    plt.legend()\n",
    "\n",
    "nothing = part_c(100)"
   ],
   "metadata": {
    "collapsed": false,
    "pycharm": {
     "name": "#%%\n"
    }
   }
  }
 ],
 "metadata": {
  "kernelspec": {
   "display_name": "Python 3",
   "language": "python",
   "name": "python3"
  },
  "language_info": {
   "codemirror_mode": {
    "name": "ipython",
    "version": 3
   },
   "file_extension": ".py",
   "mimetype": "text/x-python",
   "name": "python",
   "nbconvert_exporter": "python",
   "pygments_lexer": "ipython3",
   "version": "3.9.0"
  }
 },
 "nbformat": 4,
 "nbformat_minor": 5
}