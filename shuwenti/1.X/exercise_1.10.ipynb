{
 "cells": [
  {
   "cell_type": "markdown",
   "id": "e9b50a02-36b6-4b46-9ba8-e4b9d3872c78",
   "metadata": {},
   "source": [
    "# Exercise 1.10"
   ]
  },
  {
   "cell_type": "markdown",
   "id": "b15139ff-ac2d-44bb-89bc-45bed0bf1012",
   "metadata": {},
   "source": [
    "![Problem](images/2021-05-26-09-47-40.png)"
   ]
  },
  {
   "cell_type": "code",
   "execution_count": 1,
   "id": "a0f83161-254e-4799-8a22-86dc5318e294",
   "metadata": {},
   "outputs": [],
   "source": [
    "import random\n",
    "import numpy as np\n",
    "import matplotlib.pyplot as plt\n",
    "\n",
    "# function to convert to subscript\n",
    "def get_sub(x):\n",
    "    normal = \"ABCDEFGHIJKLMNOPQRSTUVWXYZabcdefghijklmnopqrstuvwxyz0123456789+-=()\"\n",
    "    sub_s = \"ₐ₈CDₑբGₕᵢⱼₖₗₘₙₒₚQᵣₛₜᵤᵥwₓᵧZₐ♭꜀ᑯₑբ₉ₕᵢⱼₖₗₘₙₒₚ૧ᵣₛₜᵤᵥwₓᵧ₂₀₁₂₃₄₅₆₇₈₉₊₋₌₍₎\"\n",
    "    res = x.maketrans(''.join(normal), ''.join(sub_s))\n",
    "    return x.translate(res)\n",
    "\n",
    "def run_experiment(output:bool = False) -> []:\n",
    "    \"\"\"\n",
    "    Runs an experiment flipping 1000 fair coins\n",
    "\n",
    "    :param output: Whether you want to print the output of the experiment to console or not\n",
    "    :return: Returns an array of [v1, vrand, vmin]\n",
    "    \"\"\"\n",
    "\n",
    "    # Results is an array of tuples each one including an array of length 10 for each coin being\n",
    "    # flipped 10 times and the some of the true values\n",
    "    results = []\n",
    "    for i in range(0,1000):\n",
    "\n",
    "        # Flip a single coin 10 times and store the results\n",
    "        coin_results = []\n",
    "        for j in range(0, 10):\n",
    "            coin_results.append(random.choice([True,False]))\n",
    "\n",
    "        results.append((coin_results, np.sum(coin_results)))\n",
    "\n",
    "    v1 = results[0][1]/10\n",
    "    if output:\n",
    "        print(\"C%s: %s \\u03BD%s: %s\" % (get_sub(\"1\"), results[0][1], get_sub(\"1\"), str(v1)))\n",
    "\n",
    "    random_result = results[random.randint(0, 999)][1]\n",
    "    vrand = random_result/10\n",
    "    if output:\n",
    "        print(\"C%s: %s \\u03BD%s: %s\" % (get_sub(\"rand\"), random_result, get_sub(\"rand\"), str(vrand)))\n",
    "\n",
    "    current_lowest = 0\n",
    "    for index, coin in enumerate(results):\n",
    "        if coin[1] < results[current_lowest][1]:\n",
    "            current_lowest = index\n",
    "\n",
    "    vmin = results[current_lowest][1]/10\n",
    "    if output:\n",
    "        print(\"C%s: %s \\u03BD%s: %s\" % (get_sub(\"min\"), results[current_lowest][1], get_sub(\"min\"), str(vmin)))\n",
    "\n",
    "    return [v1, vrand, vmin]\n",
    "\n",
    "\n",
    "def run_experiment_multiple(num_times: int = 500, draw: bool = True):\n",
    "\n",
    "    v1s, vrands, vmins = [],[],[]\n",
    "    for z in range(0, num_times):\n",
    "        results = run_experiment()\n",
    "        v1s.append(results[0])\n",
    "        vrands.append(results[1])\n",
    "        vmins.append(results[2])\n",
    "\n",
    "    # Fixing random state for reproducibility\n",
    "\n",
    "    if draw:\n",
    "        fig, axs = plt.subplots(1,3,sharey=True, tight_layout=True)\n",
    "        n_bins = 10\n",
    "        axs[0].hist(v1s,bins=n_bins)\n",
    "        axs[1].hist(vrands,bins=n_bins)\n",
    "        axs[2].hist(vmins,bins=n_bins)\n",
    "\n",
    "    return [v1s, vrands, vmins]\n"
   ]
  },
  {
   "cell_type": "markdown",
   "id": "138a5210",
   "metadata": {},
   "source": [
    "## Part 1 (a)\n",
    "\n",
    "50% because it is 50/50 odds for each coin toss\n",
    "\n",
    "## Part 2 (b)"
   ]
  },
  {
   "cell_type": "code",
   "execution_count": 2,
   "id": "36eae793",
   "metadata": {
    "pycharm": {
     "name": "#%%\n"
    }
   },
   "outputs": [
    {
     "data": {
      "text/plain": "<Figure size 432x288 with 3 Axes>",
      "image/png": "[encoded data removed]"
     },
     "metadata": {
      "needs_background": "light"
     },
     "output_type": "display_data"
    }
   ],
   "source": [
    "# Assigning it to the variable nothing suppresses Jupyter Notebook from printing the return values\n",
    "nothing = run_experiment_multiple(50)"
   ]
  },
  {
   "cell_type": "markdown",
   "id": "19ad77e5",
   "metadata": {
    "pycharm": {
     "name": "#%% md\n"
    }
   },
   "source": [
    "## Part 3 (c)"
   ]
  },
  {
   "cell_type": "code",
   "execution_count": 2,
   "id": "6decafe3",
   "metadata": {
    "pycharm": {
     "name": "#%%\n"
    }
   },
   "outputs": [
    {
     "data": {
      "image/png": "[encoded data removed]",
      "text/plain": [
       "<Figure size 432x288 with 1 Axes>"
      ]
     },
     "metadata": {
      "needs_background": "light"
     },
     "output_type": "display_data"
    }
   ],
   "source": [
    "def part_c(num_times: int = 100):\n",
    "\n",
    "    interval = np.arange(0, 1, .1)\n",
    "    hoeffding = []\n",
    "    v1_averages = []\n",
    "    vrand_averages = []\n",
    "    vmin_averages = []\n",
    "\n",
    "    for i in range(0, 10, 1):\n",
    "        vs = run_experiment_multiple(num_times, draw=False)\n",
    "        epsilon = float(i)/10\n",
    "\n",
    "        # Get the number of instances in our lists where the probability of the absolute value of v-u is greater than\n",
    "        # our error rate. Remember v here is the fraction of the time that we flipped heads run over some number of\n",
    "        # experiments.\n",
    "        v1_averages.append(sum(1 for j in vs[0] if abs(j-.5) > epsilon)/num_times)\n",
    "        vrand_averages.append(sum(1 for j in vs[1] if abs(j-.5) > epsilon)/num_times)\n",
    "        vmin_averages.append(sum(1 for j in vs[2] if abs(j-.5) > epsilon)/num_times)\n",
    "        hoeffding.append(2.0*np.exp(-2.0*10*epsilon**2))\n",
    "\n",
    "    ax = plt.subplot()\n",
    "    ax.plot(interval, hoeffding, color='blue', markersize=8, label='Hoeffding Bound')\n",
    "    ax.plot(interval, v1_averages, color='r', linewidth=1, label='First Coin')\n",
    "    ax.plot(interval, vrand_averages, color='g', linewidth=1, label='Random Coin')\n",
    "    ax.plot(interval, vmin_averages, color='y', linewidth=1, label='Coin with Minimum Freq')\n",
    "    plt.legend()\n",
    "    plt.xlabel(\"Epsilon \\u03B5\")\n",
    "    plt.ylabel(\"Prob v-u > \\u03B5\")\n",
    "\n",
    "# Assigning it to the variable nothing suppresses Jupyter Notebook from printing the return values\n",
    "nothing = part_c(50)"
   ]
  },
  {
   "cell_type": "markdown",
   "id": "8b53d2c7",
   "metadata": {
    "pycharm": {
     "name": "#%% md\n"
    }
   },
   "source": [
    "This is saying that the liklihood we are wrong, $\\mathbb{P}[|\\nu-\\mu|>\\epsilon]$, is indicated on the left. The graph\n",
    "is illustrating that the probability we are wrong is bound by Hoeffding which will always be higher than the error on\n",
    "the first coin and a random coin.\n",
    "\n",
    "**Note**: I didn't go back and fix it but my code is garbage because I used regular Python arrays instead of numpy. I\n",
    "have learned from this problem that numpy has\n",
    "[many optimizations](https://stackoverflow.com/questions/8385602/why-are-numpy-arrays-so-fast) which make it an\n",
    "objectively superior option.\n",
    "\n",
    "## Part 4 (d)\n",
    "\n",
    "The first coin and the random coin follow the Hoeffding Bound because they are selected without any influence from the\n",
    "data whereas the coin with minimum frequency *is* influenced by the data. That is to say, we are selecting a hypothesis\n",
    "based on the data.\n",
    "\n",
    "## Part 5 (e)\n",
    "\n",
    "Each coin is a hypothesis. The bin is the infinite number of coin tosses you could make, but we're taking 10 tosses\n",
    "from that bin and measuring how close we are to the expected 50/50 chance for heads tails. In the case of (d), instead\n",
    "of knowing from which bin we are going to draw ahead of time, we wait until all the algorithm has sampled from all the\n",
    "bins and then we cherrypick one with some set of characteristics we want. The problem with this is that the data is\n",
    "influencing our selection of bin which isn't accounted for in the Hoeffding bound."
   ]
  }
 ],
 "metadata": {
  "kernelspec": {
   "display_name": "Python 3",
   "language": "python",
   "name": "python3"
  },
  "language_info": {
   "codemirror_mode": {
    "name": "ipython",
    "version": 3
   },
   "file_extension": ".py",
   "mimetype": "text/x-python",
   "name": "python",
   "nbconvert_exporter": "python",
   "pygments_lexer": "ipython3",
   "version": "3.9.0"
  }
 },
 "nbformat": 4,
 "nbformat_minor": 5
}