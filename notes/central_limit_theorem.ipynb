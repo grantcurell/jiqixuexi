{
 "cells": [
  {
   "cell_type": "markdown",
   "metadata": {
    "collapsed": true,
    "pycharm": {
     "name": "#%% md\n"
    }
   },
   "source": [
    "# Central Limit Theorem\n",
    "\n",
    "[Central Limit Theorem Lecture](https://www.youtube.com/watch?v=r9S2fMQiP2E&list=PLm3J0oaFux3ZYpFLwwrlv_EHH9wtH6pnX&index=11)\n",
    "\n",
    "## Idea\n",
    "You have some algorithm which succeeds with probability P and you run it a bunch of times independently and you want to\n",
    " understand something about the total number of times it succeeds.\n",
    "\n",
    "## Setup\n",
    "Let $X_1, X_2, ... , X_N$ be iid random variables independently/identically distributed. Identically\n",
    "distributed means that they come from the same probability distribution. The variables have $Pr[X_i=1]=p$ and\n",
    "$Pr[x_i=0]=1-p=q$ probability. You could say each $X_i$ is a bernoulli random variable with probability of success $p$.\n",
    "Let $S_n=X_1+X_2+...+X_n$.\n",
    "\n",
    "## Required Understanding of Variance\n",
    "\n",
    "We want to understand the expectation/mean. $E[S_n]=pn=E[X_1]+...+E[X_n]$. We know this from the rule *linearity of\n",
    "expectation* which says the expectation of a sum is equal to the sum of the expectations. Each of the random variables\n",
    "has expectation $p$ beacuse the probabilyt of $X_i=1$ we defined as $p$.\n",
    "\n",
    "$Var[S_n]=npq=np(1-p)$\n",
    "Remember the variance is $Var[Y]=E[(Y-\\mu)^2]$ where $\\mu=E[Y]$. Which is all equal to $E[Y^2]-E[Y]^2$. You also need\n",
    "this rule: $Var[Y+Y']=Var[Y]+Var[Y']$ where $Y,Y'$ are iid.\n",
    "\n",
    "This means the sum S_n is the sum of the independent variances $E[Y^2]-E[Y]^2 -> Var[X_i]=p-p^2=p(1-p)=pq$.\n",
    "\n",
    "### Constants in Variance\n",
    "\n",
    "$Var[Y+c]=Var[Y]$. A constant is just a value that is independent of everything else and subsequently does not affect\n",
    "the value of the variance.\n",
    "\n",
    "$Var[cY] = c^2Var[Y]$ which you can see from $E[Y^2]-E[Y]^2$"
   ]
  }
 ],
 "metadata": {
  "kernelspec": {
   "display_name": "Python 3",
   "language": "python",
   "name": "python3"
  },
  "language_info": {
   "codemirror_mode": {
    "name": "ipython",
    "version": 2
   },
   "file_extension": ".py",
   "mimetype": "text/x-python",
   "name": "python",
   "nbconvert_exporter": "python",
   "pygments_lexer": "ipython2",
   "version": "2.7.6"
  }
 },
 "nbformat": 4,
 "nbformat_minor": 0
}